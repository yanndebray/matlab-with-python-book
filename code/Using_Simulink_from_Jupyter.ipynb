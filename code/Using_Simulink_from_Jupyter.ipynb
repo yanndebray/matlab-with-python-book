{
 "cells": [
  {
   "cell_type": "markdown",
   "id": "2f42a23a-ed52-452a-8997-e72a1b0e7ee6",
   "metadata": {},
   "source": [
    "# Using Simulink from Jupyter"
   ]
  },
  {
   "cell_type": "markdown",
   "id": "fc7a4c95",
   "metadata": {},
   "source": [
    "Tested in a GitHub Codespaces environment."
   ]
  },
  {
   "cell_type": "markdown",
   "id": "bdd676b9",
   "metadata": {},
   "source": [
    "Modified code to remove dependency to Simulink Compiler"
   ]
  },
  {
   "cell_type": "code",
   "execution_count": 1,
   "id": "8e1bb4cb",
   "metadata": {},
   "outputs": [],
   "source": [
    "function res = sim_the_model(args)\n",
    "    % Utility function to simulate a Simulink model with the specified parameters.\n",
    "    % \n",
    "    % Inputs:\n",
    "    %    StopTime: simulation stop time, default is nan\n",
    "    %    TunableParameters:\n",
    "    %       A struct where the fields are the tunanle referenced\n",
    "    %       workspace variables with the values to use for the\n",
    "    %       simulation.\n",
    "    %    \n",
    "    %    Values of nan or empty for the above inputs indicate that sim should\n",
    "    %    run with the default values set in the model.\n",
    "    % \n",
    "    % Outputs:\n",
    "    %    res: A structure with the time and data values of the logged signals.\n",
    "    \n",
    "    arguments\n",
    "        args.StopTime (1,1) double = nan\n",
    "        args.TunableParameters = []\n",
    "    end\n",
    "    \n",
    "        %% Create the SimulationInput object\n",
    "        si = Simulink.SimulationInput('suspension_3dof');\n",
    "        %% Load the StopTime into the SimulationInput object\n",
    "        if ~isnan(args.StopTime)\n",
    "            si = si.setModelParameter('StopTime', num2str(args.StopTime));\n",
    "        end\n",
    "        \n",
    "        %% Load the specified tunable parameters into the simulation input object\n",
    "        if isstruct(args.TunableParameters) \n",
    "            tpNames = fieldnames(args.TunableParameters);\n",
    "            for itp = 1:numel(tpNames)\n",
    "                tpn = tpNames{itp};\n",
    "                tpv = args.TunableParameters.(tpn);\n",
    "                si = si.setVariable(tpn, tpv);\n",
    "            end\n",
    "        end\n",
    "    \n",
    "        %% call sim\n",
    "        res = sim(si);\n",
    "        \n",
    "        %% Extract the simulation results\n",
    "        % Package the time and data values of the logged signals into a structure\n",
    "        % res = extractResults(so,nan);\n",
    "    \n",
    "    end"
   ]
  },
  {
   "cell_type": "markdown",
   "id": "2058df16-3dd1-490d-b782-bbb1f23f0e06",
   "metadata": {},
   "source": [
    "Check that you have the necessary toolboxes installed"
   ]
  },
  {
   "cell_type": "code",
   "execution_count": 2,
   "id": "9b63953f-c6f2-48cb-be97-b74fa1db2e54",
   "metadata": {},
   "outputs": [
    {
     "name": "stdout",
     "output_type": "stream",
     "text": [
      "-----------------------------------------------------------------------------------------------------\n",
      "MATLAB Version: 24.1.0.2578822 (R2024a) Update 2\n",
      "MATLAB License Number: 40447121\n",
      "Operating System: Linux 6.2.0-1019-azure #19~22.04.1-Ubuntu SMP Wed Jan 10 22:57:03 UTC 2024 x86_64\n",
      "Java Version: Java 1.8.0_202-b08 with Oracle Corporation Java HotSpot(TM) 64-Bit Server VM mixed mode\n",
      "-----------------------------------------------------------------------------------------------------\n",
      "MATLAB                                                Version 24.1        (R2024a)\n",
      "Simulink                                              Version 24.1        (R2024a)\n",
      "Curve Fitting Toolbox                                 Version 24.1        (R2024a)\n",
      "Deep Learning Toolbox                                 Version 24.1        (R2024a)\n",
      "Image Processing Toolbox                              Version 24.1        (R2024a)\n",
      "MATLAB Compiler                                       Version 24.1        (R2024a)\n",
      "MATLAB Compiler SDK                                   Version 24.1        (R2024a)\n",
      "Statistics and Machine Learning Toolbox               Version 24.1        (R2024a)\n"
     ]
    }
   ],
   "source": [
    "ver"
   ]
  },
  {
   "cell_type": "markdown",
   "id": "0483a408-09a2-432b-b24e-ef365e2c9cdf",
   "metadata": {},
   "source": [
    "To access the code folder, navigate to the workspaces directory"
   ]
  },
  {
   "cell_type": "code",
   "execution_count": 3,
   "id": "e8087f14-a0ec-4a77-a4eb-93570ac5a836",
   "metadata": {},
   "outputs": [],
   "source": [
    "cd ../../workspaces/matlab-with-python-book/"
   ]
  },
  {
   "cell_type": "code",
   "execution_count": 4,
   "id": "b0a16190-e800-45bb-b056-f16a82af2d77",
   "metadata": {},
   "outputs": [
    {
     "name": "stdout",
     "output_type": "stream",
     "text": [
      " 1_intro.md\n",
      " 2_End-to-end_project_with_MATLAB_and_Python.md\n",
      " 3_Set-up_MATLAB_and_Python.md\n",
      " 4_Call_Python_from_MATLAB.md\n",
      " 5_Call_Python_AI_libraries_from_MATLAB.md\n",
      " 6_Call_MATLAB_from_Python.md\n",
      " 7_Simulink_with_Python.md\n",
      " 8_Resources.md\n",
      " code\n",
      " LICENSE\n",
      " matlab_notebooks\n",
      "'MATLAB with Python - Book - v1.5.docx'\n",
      "'MATLAB with Python - Book - v1.5.pdf'\n",
      "'MATLAB with Python - Book - v1.5 - print.docx'\n",
      "'MATLAB with Python - Book - v1.5 - print.pdf'\n",
      " media\n",
      " mpm\n",
      " mpm.1\n",
      " README.md\n",
      " SECURITY.md\n",
      " slprj\n",
      " suspension_3dof.slxc\n",
      " Using_Simulink_from_Jupyter.ipynb\n",
      "\n"
     ]
    }
   ],
   "source": [
    "ls"
   ]
  },
  {
   "cell_type": "code",
   "execution_count": 5,
   "id": "e3a61362-eb4d-4961-bfec-5f8743fa2365",
   "metadata": {},
   "outputs": [],
   "source": [
    "addpath('code')"
   ]
  },
  {
   "cell_type": "code",
   "execution_count": 6,
   "id": "c01c72d6-2d3e-4c8e-a82a-ca910087969a",
   "metadata": {},
   "outputs": [
    {
     "data": {
      "text/html": [
       "<html><body><pre>res = \n",
       "  Simulink.SimulationOutput:\n",
       "              ScopeData: [1x1 struct] \n",
       "                logsout: [1x1 Simulink.SimulationData.Dataset] \n",
       "\n",
       "     SimulationMetadata: [1x1 Simulink.SimulationMetadata] \n",
       "           ErrorMessage: [0x0 char] \n",
       "</pre></body></html>"
      ],
      "text/plain": [
       "res = \n",
       "  Simulink.SimulationOutput:\n",
       "              ScopeData: [1x1 struct] \n",
       "                logsout: [1x1 Simulink.SimulationData.Dataset] \n",
       "\n",
       "     SimulationMetadata: [1x1 Simulink.SimulationMetadata] \n",
       "           ErrorMessage: [0x0 char] \n"
      ]
     },
     "execution_count": 6,
     "metadata": {},
     "output_type": "execute_result"
    }
   ],
   "source": [
    "res = sim_the_model('StopTime', 30)"
   ]
  },
  {
   "cell_type": "code",
   "execution_count": 7,
   "id": "1b9dcf3e-c6a8-44c9-86eb-63e71e0f5d72",
   "metadata": {},
   "outputs": [
    {
     "data": {
      "text/html": [
       "<html><body><pre>ans = \n",
       "  SimulationMetadata with properties:\n",
       "\n",
       "        ModelInfo: [1x1 struct]\n",
       "       TimingInfo: [1x1 struct]\n",
       "    ExecutionInfo: [1x1 struct]\n",
       "       UserString: ''\n",
       "         UserData: []\n",
       "</pre></body></html>"
      ],
      "text/plain": [
       "ans = \n",
       "  SimulationMetadata with properties:\n",
       "\n",
       "        ModelInfo: [1x1 struct]\n",
       "       TimingInfo: [1x1 struct]\n",
       "    ExecutionInfo: [1x1 struct]\n",
       "       UserString: ''\n",
       "         UserData: []\n"
      ]
     },
     "execution_count": 7,
     "metadata": {},
     "output_type": "execute_result"
    }
   ],
   "source": [
    "res.SimulationMetadata"
   ]
  },
  {
   "cell_type": "code",
   "execution_count": 8,
   "id": "e15b5361-a826-4083-97bf-a176678c20bb",
   "metadata": {},
   "outputs": [
    {
     "data": {
      "text/html": [
       "<html><body><pre>ans = struct with fields:\n",
       "         time: [30002x1 double]\n",
       "      signals: [1x1 struct]\n",
       "    blockName: 'suspension_3dof/Scope'\n",
       "</pre></body></html>"
      ],
      "text/plain": [
       "ans = struct with fields:\n",
       "         time: [30002x1 double]\n",
       "      signals: [1x1 struct]\n",
       "    blockName: 'suspension_3dof/Scope'\n"
      ]
     },
     "execution_count": 8,
     "metadata": {},
     "output_type": "execute_result"
    }
   ],
   "source": [
    "res.ScopeData"
   ]
  },
  {
   "cell_type": "code",
   "execution_count": 13,
   "id": "8f225d13-35fd-4bc4-b850-ac363067e6a0",
   "metadata": {},
   "outputs": [
    {
     "data": {
      "image/png": "[encoded data removed]"
     },
     "execution_count": 13,
     "metadata": {},
     "output_type": "execute_result"
    }
   ],
   "source": [
    "time = res.ScopeData.time;\n",
    "signals = res.ScopeData.signals.values;\n",
    "plot(time, signals)"
   ]
  },
  {
   "cell_type": "code",
   "execution_count": 30,
   "id": "951aeb59-592c-4c8f-8024-7f6e80b9a873",
   "metadata": {},
   "outputs": [
    {
     "data": {
      "text/html": [
       "<html><body><pre>ans = duration\n",
       "   30 sec\n",
       "</pre></body></html>"
      ],
      "text/plain": [
       "ans = duration\n",
       "   30 sec\n"
      ]
     },
     "execution_count": 30,
     "metadata": {},
     "output_type": "execute_result"
    }
   ],
   "source": [
    "sec = seconds(time);\n",
    "sec(end)"
   ]
  },
  {
   "cell_type": "code",
   "execution_count": 32,
   "id": "2a140442-0c1c-4b20-b400-7cb34735bded",
   "metadata": {},
   "outputs": [
    {
     "name": "stdout",
     "output_type": "stream",
     "text": [
      "         Time          signals  \n",
      "    ______________    __________\n",
      "\n",
      "    0 sec                      0\n",
      "    0.00017923 sec    3.7556e-09\n",
      "    0.0010754 sec     1.3576e-07\n",
      "    0.0020754 sec     5.0795e-07\n",
      "    0.0030754 sec     1.1204e-06\n",
      "    0.0040754 sec     1.9762e-06\n",
      "    0.0050754 sec     3.0784e-06\n",
      "    0.0060754 sec       4.43e-06\n",
      "\n"
     ]
    }
   ],
   "source": [
    "TT = timetable(seconds(time), signals);\n",
    "head(TT)"
   ]
  },
  {
   "cell_type": "code",
   "execution_count": 10,
   "id": "bb274ea5-7347-41c3-919a-1481362831e3",
   "metadata": {},
   "outputs": [],
   "source": [
    "tunableParams.Mb = 5000;"
   ]
  },
  {
   "cell_type": "code",
   "execution_count": 11,
   "id": "54d08086-7d18-4729-8415-e6851b646359",
   "metadata": {},
   "outputs": [
    {
     "data": {
      "text/html": [
       "<html><body><pre>res2 = \n",
       "  Simulink.SimulationOutput:\n",
       "              ScopeData: [1x1 struct] \n",
       "                logsout: [1x1 Simulink.SimulationData.Dataset] \n",
       "\n",
       "     SimulationMetadata: [1x1 Simulink.SimulationMetadata] \n",
       "           ErrorMessage: [0x0 char] \n",
       "</pre></body></html>"
      ],
      "text/plain": [
       "res2 = \n",
       "  Simulink.SimulationOutput:\n",
       "              ScopeData: [1x1 struct] \n",
       "                logsout: [1x1 Simulink.SimulationData.Dataset] \n",
       "\n",
       "     SimulationMetadata: [1x1 Simulink.SimulationMetadata] \n",
       "           ErrorMessage: [0x0 char] \n"
      ]
     },
     "execution_count": 11,
     "metadata": {},
     "output_type": "execute_result"
    }
   ],
   "source": [
    "res2 = sim_the_model('StopTime', 30,'TunableParameters', tunableParams)"
   ]
  },
  {
   "cell_type": "code",
   "execution_count": 12,
   "id": "aa4c650e-4913-4363-b870-543b3ddf4192",
   "metadata": {},
   "outputs": [
    {
     "data": {
      "image/png": "[encoded data removed]"
     },
     "execution_count": 12,
     "metadata": {},
     "output_type": "execute_result"
    }
   ],
   "source": [
    "time2 = res2.ScopeData.time;\n",
    "signals2 = res2.ScopeData.signals.values;\n",
    "plot(time, signals, time2, signals2)"
   ]
  },
  {
   "cell_type": "code",
   "execution_count": 40,
   "id": "615a670a-cae3-4a00-89ef-35f6611ed996",
   "metadata": {},
   "outputs": [
    {
     "data": {
      "text/html": [
       "<html><body><pre>ans = 1x2 double\n",
       "       30002           1\n",
       "</pre></body></html>"
      ],
      "text/plain": [
       "ans = 1x2 double\n",
       "       30002           1\n"
      ]
     },
     "execution_count": 40,
     "metadata": {},
     "output_type": "execute_result"
    },
    {
     "data": {
      "text/html": [
       "<html><body><pre>ans = 1x2 double\n",
       "       30003           1\n",
       "</pre></body></html>"
      ],
      "text/plain": [
       "ans = 1x2 double\n",
       "       30003           1\n"
      ]
     },
     "execution_count": 40,
     "metadata": {},
     "output_type": "execute_result"
    }
   ],
   "source": [
    "size(signals)\n",
    "size(signals2)"
   ]
  },
  {
   "cell_type": "code",
   "execution_count": 41,
   "id": "7774a970-d4cf-47dc-9921-926b186b321a",
   "metadata": {},
   "outputs": [
    {
     "name": "stdout",
     "output_type": "stream",
     "text": [
      "         Time          signals       signals2 \n",
      "    ______________    __________    __________\n",
      "\n",
      "    0 sec                      0             0\n",
      "    0.00017923 sec    3.7556e-09    6.5352e-11\n",
      "    0.0010754 sec     1.3576e-07    2.3649e-09\n",
      "    0.0020754 sec     5.0795e-07    4.7916e-08\n",
      "    0.0030754 sec     1.1204e-06     1.542e-07\n",
      "    0.0040754 sec     1.9762e-06     3.248e-07\n",
      "    0.0050754 sec     3.0784e-06    5.6327e-07\n",
      "    0.0060754 sec       4.43e-06    8.7314e-07\n",
      "\n"
     ]
    }
   ],
   "source": [
    "TT.signals2 = signals2(1:end-1);\n",
    "head(TT)"
   ]
  },
  {
   "cell_type": "code",
   "execution_count": 42,
   "id": "adda6523-c5eb-48f9-884c-eecadf1e139f",
   "metadata": {},
   "outputs": [
    {
     "data": {
      "image/png": "[encoded data removed]"
     },
     "execution_count": 42,
     "metadata": {},
     "output_type": "execute_result"
    }
   ],
   "source": [
    "stackedplot(TT)"
   ]
  }
 ],
 "metadata": {
  "kernelspec": {
   "display_name": "MATLAB Kernel",
   "language": "matlab",
   "name": "jupyter_matlab_kernel"
  },
  "language_info": {
   "file_extension": ".m",
   "mimetype": "text/x-matlab",
   "name": "matlab"
  }
 },
 "nbformat": 4,
 "nbformat_minor": 5
}
